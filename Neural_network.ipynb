{
  "nbformat": 4,
  "nbformat_minor": 0,
  "metadata": {
    "colab": {
      "provenance": [],
      "authorship_tag": "ABX9TyPwaA0y0E2+WhdfVLQI7XKv",
      "include_colab_link": true
    },
    "kernelspec": {
      "name": "python3",
      "display_name": "Python 3"
    },
    "language_info": {
      "name": "python"
    }
  },
  "cells": [
    {
      "cell_type": "markdown",
      "metadata": {
        "id": "view-in-github",
        "colab_type": "text"
      },
      "source": [
        "<a href=\"https://colab.research.google.com/github/Abhishek4852/Authentication-based-JWT/blob/main/Neural_network.ipynb\" target=\"_parent\"><img src=\"https://colab.research.google.com/assets/colab-badge.svg\" alt=\"Open In Colab\"/></a>"
      ]
    },
    {
      "cell_type": "markdown",
      "source": [
        "Here's a Colab-friendly version of the content, complete with headings, lists, and emojis to make it visually appealing and easy to follow.\n",
        "\n",
        "---\n",
        "\n",
        "```markdown\n",
        "# 🌐 Neural Networks in Python: An Introduction\n",
        "\n",
        "## 🤖 What is a Neural Network?\n",
        "\n",
        "- **Neural** – means neuron, like those in the human brain 🧠\n",
        "- **Network** – means connections, as neurons are connected to each other in a complex network\n",
        "- **Neural Network** – replicates how the human brain learns and processes information.\n",
        "\n",
        "Neural networks are an exciting research area that aims to make machines learn from experiences just like humans do!\n",
        "\n",
        "---\n",
        "\n",
        "## 🧠 Understanding Neural Networks\n",
        "\n",
        "### 🌟 What’s happening inside the brain?\n",
        "The human brain has billions of neurons, all interconnected, allowing information to flow quickly and efficiently. Thanks to this network of neurons, the brain learns, processes, and stores data efficiently, allowing humans to learn from their experiences.\n",
        "\n",
        "### 🤔 What are we doing in neural networks?\n",
        "In neural networks, we try to **replicate** the brain's way of working, but in **machines**. This is what we call **Neural Networks** – creating networks that allow machines to \"learn\" and make decisions.\n",
        "\n",
        "---\n",
        "\n",
        "## 🎯 Aim of Neural Networks\n",
        "\n",
        "The **main aim** of neural networks is to copy the **human brain’s learning process** as closely as possible. We want machines to learn from data and experiences to become more effective and intelligent.\n",
        "\n",
        "---\n",
        "\n",
        "## 🤔 Why Neural Networks, When We Have Supercomputers?\n",
        "\n",
        "Supercomputers are great for solving quick, mathematical problems. For example:\n",
        "\n",
        "### Example 🤓\n",
        "Calculating \\(8^8\\) takes a split second for a computer, while the human brain would take longer.\n",
        "\n",
        "However, there are tasks where **human brains outperform computers**:\n",
        "\n",
        "### 👨‍💼 Office Example\n",
        "- First day at a new office? You meet lots of people.\n",
        "- The next day, you still remember their faces, even if they changed their hairstyle a bit.\n",
        "  \n",
        "A normal computer would have to scan each face again to recognize them and may still get it wrong. **Human brains** adapt to slight changes, but computers struggle with this because they rely on exact data.\n",
        "\n",
        "### ❌ Why Normal Computers Struggle\n",
        "Normal computers rely on stored data, and if that data is even slightly different (like a new expression), the computer fails to recognize it accurately. That's why neural networks are useful!\n",
        "\n",
        "---\n",
        "\n",
        "## 🧬 Moving from Natural Neurons to Machine Neurons\n",
        "\n",
        "### 🧩 Biological Neurons\n",
        "In the brain:\n",
        "- **Dendrites**: Receive input\n",
        "- **Cell Body**: Processes the information\n",
        "- **Axons**: Pass the information onward\n",
        "\n",
        "### 🖥️ Machine Neurons\n",
        "In a neural network:\n",
        "- **Inputs (X1, X2, X3, …)**: The data fed to the network\n",
        "- **Weights (w1, w2, w3, …)**: Adjust the importance of each input\n",
        "- **Activation Functions (Sigma, Sigmoid)**: Processes the combined input\n",
        "\n",
        "Mathematically, we calculate the output:\n",
        "\\[\n",
        "\\text{Output} = \\Sigma(x1 \\cdot w1) + \\Sigma(x2 \\cdot w2) + \\Sigma(x3 \\cdot w3) + …\n",
        "\\]\n",
        "If this output crosses a **threshold**, we get our final answer!\n",
        "\n",
        "---\n",
        "\n",
        "## 🚀 Real-World Applications of Neural Networks\n",
        "\n",
        "1. **Google Assistant** – Understands and responds to voice commands 📱\n",
        "2. **Face Recognition** – Recognizes faces even with minor changes to appearance 🧑‍🤝‍🧑\n",
        "  \n",
        "---\n",
        "\n",
        "## 🏥 Application Example: Predicting Patient Outcomes\n",
        "\n",
        "### Task 🩺\n",
        "Using neural networks, we can predict whether a patient will survive based on factors like **Sex** and **Age**.\n",
        "\n"
      ],
      "metadata": {
        "id": "-1n5rYW8AAem"
      }
    },
    {
      "cell_type": "code",
      "source": [
        "import numpy as np\n",
        "from sklearn.model_selection import train_test_split\n",
        "from sklearn.neural_network import MLPClassifier\n",
        "from sklearn.metrics import accuracy_score\n",
        "\n",
        "# Sample data: Sex (0=Female, 1=Male), Age\n",
        "data = np.array([\n",
        "    [0, 25, 0],  # Female, 25 years, did not survive\n",
        "    [1, 45, 1],  # Male, 45 years, survived\n",
        "    [1, 32, 1],  # Male, 32 years, survived\n",
        "    [0, 20, 0],  # Female, 20 years, did not survive\n",
        "])\n",
        "\n",
        "# Separate features and target variable\n",
        "X = data[:, :2]  # Sex and Age\n",
        "y = data[:, 2]   # Survival (0 = No, 1 = Yes)\n",
        "\n",
        "# Split into training and test sets\n",
        "X_train, X_test, y_train, y_test = train_test_split(X, y, test_size=0.5, random_state=0)\n",
        "\n",
        "# Create a neural network model\n",
        "model = MLPClassifier(hidden_layer_sizes=(5,), max_iter=1000, random_state=0)\n",
        "\n",
        "# Train the model\n",
        "model.fit(X_train, y_train)\n",
        "\n",
        "# Predict and calculate accuracy\n",
        "predictions = model.predict(X_test)\n",
        "accuracy = accuracy_score(y_test, predictions)\n",
        "\n",
        "# Output accuracy\n",
        "print(f\"Model Accuracy: {accuracy * 100:.2f}%\")"
      ],
      "metadata": {
        "id": "yZPlFZj_BgCK"
      },
      "execution_count": null,
      "outputs": []
    },
    {
      "cell_type": "markdown",
      "source": [],
      "metadata": {
        "id": "f6_l77EiADwD"
      }
    }
  ]
}